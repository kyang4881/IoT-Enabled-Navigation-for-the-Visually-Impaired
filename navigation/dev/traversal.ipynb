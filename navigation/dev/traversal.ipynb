{
 "cells": [
  {
   "cell_type": "code",
   "execution_count": null,
   "id": "54ea21bb",
   "metadata": {
    "ExecuteTime": {
     "end_time": "2024-03-14T11:18:42.909115Z",
     "start_time": "2024-03-14T11:18:40.391967Z"
    }
   },
   "outputs": [],
   "source": [
    "import holoviews as hv\n",
    "hv.extension('bokeh')"
   ]
  },
  {
   "cell_type": "code",
   "execution_count": null,
   "id": "e13334a94d5cce4a",
   "metadata": {
    "ExecuteTime": {
     "end_time": "2024-03-14T11:18:43.544608Z",
     "start_time": "2024-03-14T11:18:42.910105Z"
    }
   },
   "outputs": [],
   "source": [
    "from graphs.bras_basah import B1"
   ]
  },
  {
   "cell_type": "code",
   "execution_count": null,
   "id": "57978ebc9650cdf9",
   "metadata": {
    "ExecuteTime": {
     "end_time": "2024-03-14T11:18:43.547397Z",
     "start_time": "2024-03-14T11:18:43.545482Z"
    }
   },
   "outputs": [],
   "source": [
    "b1_model = B1()"
   ]
  },
  {
   "cell_type": "code",
   "execution_count": null,
   "id": "7d9d0597fd972ebf",
   "metadata": {
    "ExecuteTime": {
     "end_time": "2024-03-14T11:18:43.550528Z",
     "start_time": "2024-03-14T11:18:43.548799Z"
    }
   },
   "outputs": [],
   "source": [
    "graph, ALL_NODES_LOCATION = b1_model.visualize_graph()"
   ]
  },
  {
   "cell_type": "code",
   "execution_count": null,
   "id": "190c8e64a50c8242",
   "metadata": {
    "ExecuteTime": {
     "end_time": "2024-03-14T11:18:43.636153Z",
     "start_time": "2024-03-14T11:18:43.551316Z"
    }
   },
   "outputs": [],
   "source": [
    "import hvplot.networkx as hvnx\n",
    "import matplotlib.pyplot as plot \n",
    "hvnx.draw(graph, with_labels=True, pos = ALL_NODES_LOCATION, node_size = 700, node_color='skyblue', font_color='red')"
   ]
  },
  {
   "cell_type": "code",
   "execution_count": null,
   "id": "fbf86c48238f1d1",
   "metadata": {
    "ExecuteTime": {
     "end_time": "2024-03-14T11:18:43.639988Z",
     "start_time": "2024-03-14T11:18:43.637398Z"
    }
   },
   "outputs": [],
   "source": [
    "ALL_NODES_LOCATION['D1']"
   ]
  },
  {
   "cell_type": "code",
   "execution_count": null,
   "id": "87b2bcf240217812",
   "metadata": {
    "ExecuteTime": {
     "end_time": "2024-03-14T11:18:43.643219Z",
     "start_time": "2024-03-14T11:18:43.640952Z"
    }
   },
   "outputs": [],
   "source": [
    "import math\n",
    "math.degrees(math.atan2(1,0)) "
   ]
  },
  {
   "cell_type": "code",
   "execution_count": null,
   "id": "343472bc46e5dae5",
   "metadata": {
    "ExecuteTime": {
     "end_time": "2024-03-14T11:18:43.645914Z",
     "start_time": "2024-03-14T11:18:43.643868Z"
    }
   },
   "outputs": [],
   "source": [
    "math.degrees(math.atan2(2,0))"
   ]
  },
  {
   "cell_type": "code",
   "execution_count": null,
   "id": "2ec2c075beb4d434",
   "metadata": {
    "ExecuteTime": {
     "end_time": "2024-03-14T11:18:43.649219Z",
     "start_time": "2024-03-14T11:18:43.646780Z"
    }
   },
   "outputs": [],
   "source": [
    "import networkx as nx\n",
    "\n",
    "# Assuming G is your graph defined earlier\n",
    "# Specify the start and target nodes\n",
    "start_node = 'D1'  # Change 'A' to your actual start node\n",
    "target_node = 'L3'  # Change 'D' to your actual target node\n",
    "\n",
    "# Find the shortest path\n",
    "shortest_path = nx.shortest_path(graph, source=start_node, target=target_node)\n",
    "\n",
    "print(\"Shortest path from\", start_node, \"to\", target_node, \":\", shortest_path)"
   ]
  },
  {
   "cell_type": "code",
   "execution_count": null,
   "id": "42cd1c77bccedeb3",
   "metadata": {
    "ExecuteTime": {
     "end_time": "2024-03-14T11:18:43.667935Z",
     "start_time": "2024-03-14T11:18:43.651076Z"
    }
   },
   "outputs": [],
   "source": [
    "%load_ext autoreload\n",
    "%autoreload 2"
   ]
  },
  {
   "cell_type": "code",
   "execution_count": null,
   "id": "9710ef07584fc62b",
   "metadata": {
    "ExecuteTime": {
     "end_time": "2024-03-14T11:22:00.711399Z",
     "start_time": "2024-03-14T11:22:00.306215Z"
    }
   },
   "outputs": [],
   "source": [
    "from graphs.bras_basah import Concourse\n",
    "graph, ALL_NODES_LOCATION = Concourse().visualize_graph()"
   ]
  },
  {
   "cell_type": "code",
   "execution_count": null,
   "id": "e942cd5525b6a136",
   "metadata": {
    "ExecuteTime": {
     "end_time": "2024-03-14T11:22:00.798527Z",
     "start_time": "2024-03-14T11:22:00.712827Z"
    }
   },
   "outputs": [],
   "source": [
    "import hvplot.networkx as hvnx\n",
    "import matplotlib.pyplot as plot\n",
    "hvnx.draw(graph, with_labels=True, pos = ALL_NODES_LOCATION, node_size = 700, node_color='skyblue', font_color='red')"
   ]
  },
  {
   "cell_type": "code",
   "execution_count": null,
   "id": "67b5f6ba5b6e7ce8",
   "metadata": {
    "ExecuteTime": {
     "end_time": "2024-03-14T11:22:00.812761Z",
     "start_time": "2024-03-14T11:22:00.799281Z"
    }
   },
   "outputs": [],
   "source": [
    "ALL_NODES_LOCATION"
   ]
  },
  {
   "cell_type": "code",
   "execution_count": null,
   "id": "31a31146276078b1",
   "metadata": {
    "ExecuteTime": {
     "end_time": "2024-03-14T11:55:58.070384Z",
     "start_time": "2024-03-14T11:55:57.476130Z"
    }
   },
   "outputs": [],
   "source": [
    "{'k' : 'v'} + {'1' : '2'}"
   ]
  },
  {
   "cell_type": "code",
   "execution_count": null,
   "id": "473f4787fa357f17",
   "metadata": {
    "ExecuteTime": {
     "end_time": "2024-03-14T12:02:49.508265Z",
     "start_time": "2024-03-14T12:02:49.153194Z"
    }
   },
   "outputs": [],
   "source": [
    "from graphs.bras_basah import WholeStation"
   ]
  },
  {
   "cell_type": "code",
   "execution_count": null,
   "id": "c735721d72e2e58a",
   "metadata": {
    "ExecuteTime": {
     "end_time": "2024-03-14T12:06:54.285390Z",
     "start_time": "2024-03-14T12:06:54.264226Z"
    }
   },
   "outputs": [],
   "source": [
    "from user import User\n",
    "from handler import Direction\n",
    "\n",
    "current_platform = 'b1'\n",
    "previous_node = 'H1'\n",
    "current_node = 'H2'\n",
    "destination_node = 'EXIT A'\n",
    "\n",
    "\n",
    "while True:\n",
    "    user = User(current_platform,\n",
    "                previous_node=previous_node,\n",
    "                current_node=current_node,\n",
    "                destination=destination_node)\n",
    "\n",
    "    if current_node == destination_node:\n",
    "        break\n",
    "    destination = Direction(user)\n",
    "    direction, next_node = destination.handler()\n",
    "    print(f\"{current_node} -> {next_node};\\tDirection: {direction}\")\n",
    "    previous_node, current_node = current_node, next_node"
   ]
  },
  {
   "cell_type": "code",
   "execution_count": null,
   "id": "9d3f39f6d8333d3d",
   "metadata": {
    "ExecuteTime": {
     "end_time": "2024-03-14T12:37:57.015805Z",
     "start_time": "2024-03-14T12:37:55.843335Z"
    }
   },
   "outputs": [],
   "source": [
    "g, _ = B1().visualize_graph()"
   ]
  },
  {
   "cell_type": "code",
   "execution_count": null,
   "id": "a21bd5856992705d",
   "metadata": {
    "ExecuteTime": {
     "end_time": "2024-03-14T12:37:57.102649Z",
     "start_time": "2024-03-14T12:37:57.017105Z"
    }
   },
   "outputs": [],
   "source": [
    "import hvplot.networkx as hvnx\n",
    "import matplotlib.pyplot as plot\n",
    "hvnx.draw(g, with_labels=True, pos = _, node_size = 700, node_color='skyblue', font_color='red')"
   ]
  },
  {
   "cell_type": "code",
   "execution_count": null,
   "id": "fa13b1f6b0c94e83",
   "metadata": {},
   "outputs": [],
   "source": []
  }
 ],
 "metadata": {
  "kernelspec": {
   "display_name": "Python 3 (ipykernel)",
   "language": "python",
   "name": "python3"
  },
  "language_info": {
   "codemirror_mode": {
    "name": "ipython",
    "version": 3
   },
   "file_extension": ".py",
   "mimetype": "text/x-python",
   "name": "python",
   "nbconvert_exporter": "python",
   "pygments_lexer": "ipython3",
   "version": "3.9.16"
  }
 },
 "nbformat": 4,
 "nbformat_minor": 5
}
